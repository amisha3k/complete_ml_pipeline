{
 "cells": [
  {
   "cell_type": "code",
   "execution_count": 6,
   "id": "ffc8ef82",
   "metadata": {},
   "outputs": [
    {
     "name": "stdout",
     "output_type": "stream",
     "text": [
      "Current Working Directory: D:\\Desktop\\MLOPS\\ds_wine_prediction\n"
     ]
    }
   ],
   "source": [
    "import os\n",
    "os.chdir(r\"D:\\Desktop\\MLOPS\\ds_wine_prediction\")\n",
    "print(\"Current Working Directory:\", os.getcwd())"
   ]
  },
  {
   "cell_type": "code",
   "execution_count": 7,
   "id": "62757902",
   "metadata": {},
   "outputs": [
    {
     "data": {
      "text/plain": [
       "'D:\\\\Desktop\\\\MLOPS\\\\ds_wine_prediction'"
      ]
     },
     "execution_count": 7,
     "metadata": {},
     "output_type": "execute_result"
    }
   ],
   "source": [
    "os.getcwd()"
   ]
  },
  {
   "cell_type": "code",
   "execution_count": 8,
   "id": "58e3e566",
   "metadata": {},
   "outputs": [
    {
     "data": {
      "text/plain": [
       "'D:\\\\Desktop\\\\MLOPS\\\\ds_wine_prediction'"
      ]
     },
     "execution_count": 8,
     "metadata": {},
     "output_type": "execute_result"
    }
   ],
   "source": [
    "%pwd"
   ]
  },
  {
   "cell_type": "code",
   "execution_count": 9,
   "id": "de6b631e",
   "metadata": {},
   "outputs": [],
   "source": [
    "import os\n",
    "#from ensure_annotations import ensure_annotations\n",
    "import sys\n",
    "from pathlib import Path\n",
    "from typing import List\n",
    "sys.path.append(r\"D:\\Desktop\\MLOPS\\ds_wine_prediction\")"
   ]
  },
  {
   "cell_type": "code",
   "execution_count": 10,
   "metadata": {},
   "outputs": [],
   "source": [
    "from dataclasses import dataclass\n",
    "from pathlib import Path\n",
    "\n",
    "@dataclass\n",
    "class DataIngestionConfig:\n",
    "    root_dir: Path\n",
    "    source_URL: str\n",
    "    local_data_file: Path\n",
    "    unzip_dir : Path"
   ]
  },
  {
   "cell_type": "code",
   "execution_count": 11,
   "id": "61ebb419",
   "metadata": {},
   "outputs": [],
   "source": [
    "from src.datascience.constants import *\n",
    "from src.datascience.constants import CONFIG_FILE_PATH\n",
    "from src.datascience.utils.common import read_yaml,create_directories\n",
    "\n",
    "class ConfigurationManager:\n",
    "    def __init__(self,\n",
    "                 config_filepath=CONFIG_FILE_PATH,\n",
    "                 params_filepath=PARAMS_FILE_PATH,\n",
    "                 schema_filepath=SCHEMA_FILE_PATH):\n",
    "        self.config=read_yaml(config_filepath)\n",
    "        self.params=read_yaml(params_filepath)\n",
    "        self.schema=read_yaml(schema_filepath)\n",
    "\n",
    "        create_directories([self.config.artifacts_root])\n",
    "\n",
    "\n",
    "    def get_data_ingestion_config(self)->DataIngestionConfig:\n",
    "        config=self.config.data_ingestion\n",
    "        create_directories([config.root_dir])\n",
    "\n",
    "        data_ingestion_config=DataIngestionConfig(\n",
    "            root_dir=config.root_dir,\n",
    "            source_URL=config.source_URL,\n",
    "            local_data_file=config.local_data_file,\n",
    "            unzip_dir=config.unzip_dir\n",
    "        )\n",
    "        return data_ingestion_config\n",
    "        "
   ]
  },
  {
   "cell_type": "code",
   "execution_count": 12,
   "id": "a2d09e62",
   "metadata": {},
   "outputs": [],
   "source": [
    "\n",
    "import os\n",
    "import urllib.request as request\n",
    "from src.datascience import logger\n",
    "import zipfile\n",
    "\n",
    "class DataIngestion:\n",
    "    def __init__(self, config: DataIngestionConfig):\n",
    "        self.config = config\n",
    "\n",
    "    def download_file(self):\n",
    "        \"\"\"\n",
    "        Download dataset from the source URL if not already present locally.\n",
    "        \"\"\"\n",
    "        try:\n",
    "            if not os.path.exists(self.config.local_data_file):\n",
    "                logger.info(f\"Downloading file from {self.config.source_URL} ...\")\n",
    "                filename, headers = request.urlretrieve(\n",
    "                    url=self.config.source_URL,\n",
    "                    filename=self.config.local_data_file\n",
    "                )\n",
    "                logger.info(f\"File downloaded successfully: {filename}\")\n",
    "                logger.info(f\"Download headers: {headers}\")\n",
    "            else:\n",
    "                logger.info(f\"File already exists at {self.config.local_data_file}\")\n",
    "        except Exception as e:\n",
    "            logger.error(\"Error during file download\")\n",
    "            raise e\n",
    "\n",
    "    def extract_zip_file(self):\n",
    "        \"\"\"\n",
    "        Extract the downloaded zip file into the specified directory.\n",
    "        \"\"\"\n",
    "        try:\n",
    "            unzip_path = self.config.unzip_dir\n",
    "            os.makedirs(unzip_path, exist_ok=True)\n",
    "            with zipfile.ZipFile(self.config.local_data_file, 'r') as zip_ref:\n",
    "                zip_ref.extractall(unzip_path)\n",
    "            logger.info(f\"Extraction completed. Files are available at: {unzip_path}\")\n",
    "        except Exception as e:\n",
    "            logger.error(\"Error during file extraction\")\n",
    "            raise e\n"
   ]
  },
  {
   "cell_type": "code",
   "execution_count": 13,
   "id": "c13d9f5c",
   "metadata": {},
   "outputs": [
    {
     "name": "stdout",
     "output_type": "stream",
     "text": [
      "[2025-09-24 17:15:13,988: INFO: common: YAML file loaded successfully: D:\\Desktop\\MLOPS\\ds_wine_prediction\\config\\config.yaml]\n",
      "[2025-09-24 17:15:13,997: INFO: common: YAML file loaded successfully: D:\\Desktop\\MLOPS\\ds_wine_prediction\\params.yaml]\n",
      "[2025-09-24 17:15:14,006: INFO: common: YAML file loaded successfully: D:\\Desktop\\MLOPS\\ds_wine_prediction\\schema.yaml]\n",
      "[2025-09-24 17:15:14,006: INFO: common: Directory created or already exists: artifacts]\n",
      "[2025-09-24 17:15:14,012: INFO: common: Directory created or already exists: artifacts/data_ingestion]\n",
      "[2025-09-24 17:15:14,019: INFO: 1015238248: Downloading file from https://raw.githubusercontent.com/krishnaik06/datasets/main/winequality-data.zip ...]\n",
      "[2025-09-24 17:15:14,731: INFO: 1015238248: File downloaded successfully: artifacts/data_ingestion/data.zip]\n",
      "[2025-09-24 17:15:14,750: INFO: 1015238248: Download headers: Connection: close\n",
      "Content-Length: 23329\n",
      "Cache-Control: max-age=300\n",
      "Content-Security-Policy: default-src 'none'; style-src 'unsafe-inline'; sandbox\n",
      "Content-Type: application/zip\n",
      "ETag: \"c69888a4ae59bc5a893392785a938ccd4937981c06ba8a9d6a21aa52b4ab5b6e\"\n",
      "Strict-Transport-Security: max-age=31536000\n",
      "X-Content-Type-Options: nosniff\n",
      "X-Frame-Options: deny\n",
      "X-XSS-Protection: 1; mode=block\n",
      "X-GitHub-Request-Id: 57EB:2D1775:2C9F53:570392:68D3D9CA\n",
      "Accept-Ranges: bytes\n",
      "Date: Wed, 24 Sep 2025 11:45:15 GMT\n",
      "Via: 1.1 varnish\n",
      "X-Served-By: cache-bom-vanm7210051-BOM\n",
      "X-Cache: MISS\n",
      "X-Cache-Hits: 0\n",
      "X-Timer: S1758714315.729163,VS0,VE313\n",
      "Vary: Authorization,Accept-Encoding\n",
      "Access-Control-Allow-Origin: *\n",
      "Cross-Origin-Resource-Policy: cross-origin\n",
      "X-Fastly-Request-ID: 8b76b52dd694942e6376d7e8ac8bcd8f66acd3ce\n",
      "Expires: Wed, 24 Sep 2025 11:50:15 GMT\n",
      "Source-Age: 0\n",
      "\n",
      "]\n",
      "[2025-09-24 17:15:14,793: INFO: 1015238248: Extraction completed. Files are available at: artifacts/data_ingestion]\n"
     ]
    }
   ],
   "source": [
    "try:\n",
    "    config=ConfigurationManager()\n",
    "    data_ingestion_config=config.get_data_ingestion_config()\n",
    "    data_ingestion=DataIngestion(config=data_ingestion_config)\n",
    "    data_ingestion.download_file()\n",
    "    data_ingestion.extract_zip_file()\n",
    "except Exception as e:\n",
    "    raise e    "
   ]
  }
 ],
 "metadata": {
  "kernelspec": {
   "display_name": "venv",
   "language": "python",
   "name": "python3"
  },
  "language_info": {
   "codemirror_mode": {
    "name": "ipython",
    "version": 3
   },
   "file_extension": ".py",
   "mimetype": "text/x-python",
   "name": "python",
   "nbconvert_exporter": "python",
   "pygments_lexer": "ipython3",
   "version": "3.10.0"
  }
 },
 "nbformat": 4,
 "nbformat_minor": 5
}
