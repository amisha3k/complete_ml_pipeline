{
 "cells": [
  {
   "cell_type": "code",
   "execution_count": 1,
   "id": "2deacdb3",
   "metadata": {},
   "outputs": [
    {
     "name": "stdout",
     "output_type": "stream",
     "text": [
      "Current Working Directory: D:\\Desktop\\MLOPS\\ds_wine_prediction\n"
     ]
    }
   ],
   "source": [
    "import os\n",
    "os.chdir(r\"D:\\Desktop\\MLOPS\\ds_wine_prediction\")\n",
    "print(\"Current Working Directory:\", os.getcwd())"
   ]
  },
  {
   "cell_type": "code",
   "execution_count": 2,
   "id": "3f8861ca",
   "metadata": {},
   "outputs": [],
   "source": [
    "import os\n",
    "os.environ[\"MLFLOW_TRACKING_URI\"]=\"https://dagshub.com/amisha3k/ds_wine_prediction.mlflow\"\n",
    "os.environ[\"MLFLOW_TRACKING_USERNAME\"]=\"amisha3k\"\n",
    "os.environ[\"MLFLOW_TRACKING_PASSWORD\"]=\"e454077689b7938f4a4a5f3fc65e4a051bd61360\""
   ]
  },
  {
   "cell_type": "code",
   "execution_count": 3,
   "id": "8fbcf98b",
   "metadata": {},
   "outputs": [],
   "source": [
    "from dataclasses import dataclass\n",
    "from pathlib import Path\n",
    "\n",
    "@dataclass\n",
    "class ModelEvaluationConfig:\n",
    "    root_dir: Path\n",
    "    test_data_path: Path\n",
    "    model_path: Path\n",
    "    all_params: dict\n",
    "    metric_file_name: Path\n",
    "    target_column: str\n",
    "    mlflow_uri: str\n",
    "   "
   ]
  },
  {
   "cell_type": "code",
   "execution_count": 4,
   "id": "762e58eb",
   "metadata": {},
   "outputs": [],
   "source": [
    "from src.datascience.constants import *\n",
    "from src.datascience.constants import CONFIG_FILE_PATH\n",
    "from src.datascience.utils.common import read_yaml,create_directories,save_json\n",
    "\n",
    "class ConfigurationManager:\n",
    "    def __init__(\n",
    "        self,\n",
    "        config_filepath=CONFIG_FILE_PATH,\n",
    "        params_filepath=PARAMS_FILE_PATH,\n",
    "        schema_filepath=SCHEMA_FILE_PATH):\n",
    "\n",
    "        self.config=read_yaml(config_filepath)\n",
    "        self.params=read_yaml(params_filepath)\n",
    "        self.schema=read_yaml(schema_filepath)\n",
    "\n",
    "        create_directories([self.config.artifacts_root])   \n",
    "\n",
    "    def get_model_evaluation_config(self)-> ModelEvaluationConfig:\n",
    "        config=self.config.model_evaluation\n",
    "        params=self.params.ElasticNet\n",
    "        # schema=self.schema.TARGET_COLUMN\n",
    "        target_column=self.schema.TARGET_COLUMN\n",
    "\n",
    "        create_directories([config.root_dir])\n",
    "\n",
    "        model_evaluation_config=ModelEvaluationConfig(\n",
    "                root_dir=config.root_dir,\n",
    "                test_data_path=config.test_data_path,\n",
    "                model_path=config.model_path,\n",
    "                all_params=params,\n",
    "                metric_file_name=config.metric_file_name,\n",
    "                target_column=target_column,\n",
    "                mlflow_uri=\"https://dagshub.com/amisha3k/ds_wine_prediction.mlflow\"\n",
    "        )\n",
    "        return model_evaluation_config"
   ]
  },
  {
   "cell_type": "code",
   "execution_count": 10,
   "id": "9dd88c17",
   "metadata": {},
   "outputs": [],
   "source": [
    "import os\n",
    "import pandas as pd\n",
    "import numpy as np\n",
    "from sklearn.metrics import mean_squared_error,mean_absolute_error,r2_score\n",
    "import mlflow\n",
    "import mlflow.sklearn\n",
    "import joblib\n",
    "from urllib.parse import urlparse\n",
    "import urllib.request as request\n",
    "from src.datascience import logger\n",
    "\n",
    "\n",
    "class ModelEvaluation:\n",
    "    def __init__(self, config: ModelEvaluationConfig):\n",
    "        self.config = config\n",
    "\n",
    "    def eval_metrics(self,actual,pred):\n",
    "        rmse=np.sqrt(mean_squared_error(actual,pred))\n",
    "        mae=mean_absolute_error(actual,pred)\n",
    "        r2=r2_score(actual,pred)\n",
    "        return rmse,mae,r2\n",
    "\n",
    "    def log_into_mlflow(self):\n",
    "\n",
    "        test_data=pd.read_csv(self.config.test_data_path)\n",
    "        model=joblib.load(self.config.model_path)\n",
    "\n",
    "        test_x=test_data.drop([self.config.target_column],axis=1)\n",
    "        test_y=test_data[[self.config.target_column]]\n",
    "\n",
    "        # mlflow.set_tracking_uri(str(Path(self.config.mlflow_uri).absolute()))\n",
    "        # #mlflow.set_registry_uri(self.config.mlflow_uri)\n",
    "        # tracking_url_type_store=urlparse(mlflow.get_tracking_uri()).scheme\n",
    "\n",
    "        mlflow_uri = self.config.mlflow_uri\n",
    "        if mlflow_uri.startswith(\"http\"):\n",
    "             mlflow.set_tracking_uri(mlflow_uri)   # Remote server (e.g. DagsHub, localhost:5000)\n",
    "        else:\n",
    "             mlflow.set_tracking_uri(str(Path(mlflow_uri).absolute()))  # Local folder\n",
    "\n",
    "        tracking_url_type_store = urlparse(mlflow.get_tracking_uri()).scheme\n",
    "\n",
    "  \n",
    "        with mlflow.start_run():\n",
    "\n",
    "            predicted_qualities=model.predict(test_x)\n",
    "\n",
    "            (rmse,mae,r2)=self.eval_metrics(test_y,predicted_qualities)\n",
    "\n",
    "            #saving metrics as local\n",
    "            scores={\"rmse\":rmse,\"mae\":mae,\"r2\":r2}\n",
    "            save_json(path=Path(self.config.metric_file_name),data=scores)\n",
    "\n",
    "            mlflow.log_metric(\"rmse\",rmse)   \n",
    "            mlflow.log_metric(\"mae\",mae)\n",
    "            mlflow.log_metric(\"r2\",r2)\n",
    "           \n",
    "            #modelregistry does not work with file store\n",
    "            if tracking_url_type_store == \"file\":\n",
    "            # local file-based MLflow store (works with log_model)\n",
    "               mlflow.sklearn.log_model(model, \"model\")\n",
    "            else:\n",
    "            # Remote (e.g., DagsHub) → save + log as artifact (no registry)\n",
    "               mlflow.sklearn.save_model(model, \"model\")\n",
    "               mlflow.log_artifacts(\"model\", artifact_path=\"model\")\n",
    "\n",
    "          "
   ]
  },
  {
   "cell_type": "code",
   "execution_count": 11,
   "id": "27f04729",
   "metadata": {},
   "outputs": [
    {
     "name": "stdout",
     "output_type": "stream",
     "text": [
      "[2025-09-25 17:38:11,371: INFO: common: YAML file loaded successfully: D:\\Desktop\\MLOPS\\ds_wine_prediction\\config\\config.yaml]\n",
      "[2025-09-25 17:38:11,377: INFO: common: YAML file loaded successfully: D:\\Desktop\\MLOPS\\ds_wine_prediction\\params.yaml]\n",
      "[2025-09-25 17:38:11,392: INFO: common: YAML file loaded successfully: D:\\Desktop\\MLOPS\\ds_wine_prediction\\schema.yaml]\n",
      "[2025-09-25 17:38:11,395: INFO: common: Directory created or already exists: artifacts]\n",
      "[2025-09-25 17:38:11,400: INFO: common: Directory created or already exists: artifacts/model_evaluation]\n"
     ]
    },
    {
     "name": "stdout",
     "output_type": "stream",
     "text": [
      "[2025-09-25 17:38:12,005: INFO: common: JSON file saved at: artifacts\\model_evaluation\\metrics.json]\n",
      "🏃 View run suave-duck-365 at: https://dagshub.com/amisha3k/ds_wine_prediction.mlflow/#/experiments/0/runs/7195af0af9744e9bb61484c9fcb55e6b\n",
      "🧪 View experiment at: https://dagshub.com/amisha3k/ds_wine_prediction.mlflow/#/experiments/0\n"
     ]
    }
   ],
   "source": [
    "try:\n",
    "    config=ConfigurationManager()\n",
    "    model_evaluation_config=config.get_model_evaluation_config()\n",
    "    model_evaluation=ModelEvaluation(config=model_evaluation_config)\n",
    "    model_evaluation.log_into_mlflow()\n",
    "  \n",
    "except Exception as e:\n",
    "    raise e "
   ]
  }
 ],
 "metadata": {
  "kernelspec": {
   "display_name": "venv",
   "language": "python",
   "name": "python3"
  },
  "language_info": {
   "codemirror_mode": {
    "name": "ipython",
    "version": 3
   },
   "file_extension": ".py",
   "mimetype": "text/x-python",
   "name": "python",
   "nbconvert_exporter": "python",
   "pygments_lexer": "ipython3",
   "version": "3.10.0"
  }
 },
 "nbformat": 4,
 "nbformat_minor": 5
}
